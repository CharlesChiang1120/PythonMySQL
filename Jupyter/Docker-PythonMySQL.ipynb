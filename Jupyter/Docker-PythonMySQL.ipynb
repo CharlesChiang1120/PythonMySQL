{
 "cells": [
  {
   "cell_type": "code",
   "execution_count": 5,
   "id": "alternative-rolling",
   "metadata": {
    "scrolled": true
   },
   "outputs": [
    {
     "name": "stdout",
     "output_type": "stream",
     "text": [
      "Collecting mysql-connector\n",
      "  Downloading mysql-connector-2.2.9.tar.gz (11.9 MB)\n",
      "\u001b[K     |████████████████████████████████| 11.9 MB 101 kB/s eta 0:00:01    |██████▎                         | 2.3 MB 105 kB/s eta 0:01:31     |████████████▌                   | 4.6 MB 98 kB/s eta 0:01:14     |███████████████████████████     | 10.0 MB 138 kB/s eta 0:00:14     |█████████████████████████████   | 10.7 MB 289 kB/s eta 0:00:04\n",
      "\u001b[?25hBuilding wheels for collected packages: mysql-connector\n",
      "  Building wheel for mysql-connector (setup.py) ... \u001b[?25ldone\n",
      "\u001b[?25h  Created wheel for mysql-connector: filename=mysql_connector-2.2.9-cp38-cp38-linux_x86_64.whl size=247948 sha256=30aae69d64283b694f4bc23e792298930aec68a4925ed65bde98655b7a7bb5fe\n",
      "  Stored in directory: /home/jovyan/.cache/pip/wheels/57/e4/98/5feafb5c393dd2540e44b064a6f95832990d543e5b4f53ea8f\n",
      "Successfully built mysql-connector\n",
      "Installing collected packages: mysql-connector\n",
      "Successfully installed mysql-connector-2.2.9\n"
     ]
    }
   ],
   "source": [
    "!pip install mysql-connector"
   ]
  },
  {
   "cell_type": "code",
   "execution_count": 6,
   "id": "angry-domestic",
   "metadata": {},
   "outputs": [],
   "source": [
    "import mysql.connector"
   ]
  },
  {
   "cell_type": "code",
   "execution_count": 12,
   "id": "healthy-colors",
   "metadata": {},
   "outputs": [],
   "source": [
    "#Docker Bridge \n",
    "#docker inspect container | grep IPAddress\n",
    "mydb = mysql.connector.connect(\n",
    "    host = \"172.28.0.2\",\n",
    "    user = \"root\",\n",
    "    passwd = \"123456\",)"
   ]
  },
  {
   "cell_type": "code",
   "execution_count": 13,
   "id": "likely-discovery",
   "metadata": {},
   "outputs": [
    {
     "name": "stdout",
     "output_type": "stream",
     "text": [
      "<mysql.connector.connection.MySQLConnection object at 0x7f5907fd3f40>\n"
     ]
    }
   ],
   "source": [
    "print(mydb)"
   ]
  },
  {
   "cell_type": "code",
   "execution_count": 33,
   "id": "increasing-narrative",
   "metadata": {},
   "outputs": [],
   "source": [
    "my_cursor = mydb.cursor()"
   ]
  },
  {
   "cell_type": "markdown",
   "id": "indirect-albuquerque",
   "metadata": {},
   "source": [
    "## Create A Database"
   ]
  },
  {
   "cell_type": "code",
   "execution_count": 34,
   "id": "dimensional-avenue",
   "metadata": {},
   "outputs": [],
   "source": [
    "my_cursor.execute(\"CREATE DATABASE testdb\")"
   ]
  },
  {
   "cell_type": "code",
   "execution_count": 35,
   "id": "adapted-environment",
   "metadata": {},
   "outputs": [
    {
     "data": {
      "text/plain": [
       "<mysql.connector.cursor.MySQLCursor at 0x7f5907785b50>"
      ]
     },
     "execution_count": 35,
     "metadata": {},
     "output_type": "execute_result"
    }
   ],
   "source": [
    "my_cursor"
   ]
  },
  {
   "cell_type": "code",
   "execution_count": 36,
   "id": "corrected-container",
   "metadata": {},
   "outputs": [],
   "source": [
    "my_cursor.execute(\"SHOW DATABASES\")"
   ]
  },
  {
   "cell_type": "code",
   "execution_count": 37,
   "id": "operational-cable",
   "metadata": {},
   "outputs": [
    {
     "name": "stdout",
     "output_type": "stream",
     "text": [
      "('information_schema',)\n",
      "('mysql',)\n",
      "('performance_schema',)\n",
      "('sys',)\n",
      "('testdb',)\n"
     ]
    }
   ],
   "source": [
    "for db in my_cursor:\n",
    "    print(db)"
   ]
  },
  {
   "cell_type": "markdown",
   "id": "tough-century",
   "metadata": {},
   "source": [
    "## Create A Table"
   ]
  },
  {
   "cell_type": "code",
   "execution_count": 38,
   "id": "ordinary-hopkins",
   "metadata": {},
   "outputs": [],
   "source": [
    "mydb = mysql.connector.connect(\n",
    "    host = \"172.28.0.2\",\n",
    "    user = \"root\",\n",
    "    passwd = \"123456\",\n",
    "    database = \"testdb\")"
   ]
  },
  {
   "cell_type": "code",
   "execution_count": 39,
   "id": "addressed-winner",
   "metadata": {},
   "outputs": [],
   "source": [
    "my_cursor = mydb.cursor()"
   ]
  },
  {
   "cell_type": "code",
   "execution_count": 41,
   "id": "eastern-rescue",
   "metadata": {},
   "outputs": [],
   "source": [
    "my_cursor.execute(\"CREATE TABLE users (name VARCHAR(255), email VARCHAR(255), age INTEGER(10), \\\n",
    "                   user_id INTEGER AUTO_INCREMENT PRIMARY KEY)\")"
   ]
  },
  {
   "cell_type": "code",
   "execution_count": 45,
   "id": "unnecessary-pastor",
   "metadata": {},
   "outputs": [],
   "source": [
    "my_cursor.execute(\"SHOW TABLES\")"
   ]
  },
  {
   "cell_type": "code",
   "execution_count": 46,
   "id": "leading-hollow",
   "metadata": {},
   "outputs": [
    {
     "name": "stdout",
     "output_type": "stream",
     "text": [
      "users\n"
     ]
    }
   ],
   "source": [
    "for table in my_cursor:\n",
    "    print(table[0])"
   ]
  },
  {
   "cell_type": "markdown",
   "id": "reliable-portfolio",
   "metadata": {},
   "source": [
    "## Insert One Record Into Table"
   ]
  },
  {
   "cell_type": "code",
   "execution_count": 173,
   "id": "hawaiian-enhancement",
   "metadata": {},
   "outputs": [],
   "source": [
    "mydb = mysql.connector.connect(\n",
    "    host = \"172.28.0.2\",\n",
    "    user = \"root\",\n",
    "    passwd = \"123456\",\n",
    "    database = \"testdb\")"
   ]
  },
  {
   "cell_type": "code",
   "execution_count": 174,
   "id": "polish-talent",
   "metadata": {},
   "outputs": [],
   "source": [
    "my_cursor = mydb.cursor()"
   ]
  },
  {
   "cell_type": "code",
   "execution_count": 177,
   "id": "protecting-stanford",
   "metadata": {},
   "outputs": [],
   "source": [
    "sqlStuff = \"INSERT INTO users (name, email, age) VALUES (%s, %s, %s)\"\n",
    "record1 = ('John', 'john@abc.com', 40, 1)"
   ]
  },
  {
   "cell_type": "code",
   "execution_count": 178,
   "id": "prescription-intermediate",
   "metadata": {},
   "outputs": [],
   "source": [
    "my_cursor.execute(sqlStuff, record1)\n",
    "mydb.commit()"
   ]
  },
  {
   "cell_type": "code",
   "execution_count": 179,
   "id": "daily-browse",
   "metadata": {},
   "outputs": [],
   "source": [
    "my_cursor.execute(\"SELECT * FROM users\")"
   ]
  },
  {
   "cell_type": "code",
   "execution_count": 180,
   "id": "reflected-avatar",
   "metadata": {},
   "outputs": [
    {
     "name": "stdout",
     "output_type": "stream",
     "text": [
      "('John', 'john@abc.com', 40, 1)\n",
      "('Tim', 'Tim@abc.com', 20, 2)\n",
      "('Mary', 'Mary@abc.com', 30, 3)\n",
      "('Kevin', 'Kevin@abc.com', 18, 4)\n",
      "('Ironman', 'Ironman@abc.com', 45, 5)\n",
      "('JohnnyDepp', 'JohnnyDepp@abc.com', 55, 6)\n"
     ]
    }
   ],
   "source": [
    "for record in my_cursor:\n",
    "    print(record)"
   ]
  },
  {
   "cell_type": "markdown",
   "id": "sudden-blade",
   "metadata": {},
   "source": [
    "## Insert Many Records Into Table"
   ]
  },
  {
   "cell_type": "code",
   "execution_count": 62,
   "id": "commercial-female",
   "metadata": {},
   "outputs": [],
   "source": [
    "mydb = mysql.connector.connect(\n",
    "    host = \"172.28.0.2\",\n",
    "    user = \"root\",\n",
    "    passwd = \"123456\",\n",
    "    database = \"testdb\")"
   ]
  },
  {
   "cell_type": "code",
   "execution_count": 63,
   "id": "hairy-religion",
   "metadata": {},
   "outputs": [],
   "source": [
    "my_cursor = mydb.cursor()"
   ]
  },
  {
   "cell_type": "code",
   "execution_count": 64,
   "id": "continental-understanding",
   "metadata": {},
   "outputs": [],
   "source": [
    "sqlStuff = \"INSERT INTO users (name, email, age) VALUES (%s, %s, %s)\""
   ]
  },
  {
   "cell_type": "code",
   "execution_count": 87,
   "id": "liberal-yeast",
   "metadata": {},
   "outputs": [],
   "source": [
    "records = [(\"Tim\", \"Tim@abc.com\", 20),\\\n",
    "           (\"Mary\", \"Mary@abc.com\", 30),\\\n",
    "           (\"Kevin\", \"Kevin@abc.com\", 18),\\\n",
    "           (\"Ironman\", \"Ironman@abc.com\", 45),\\\n",
    "           ('JohnnyDepp', 'JohnnyDepp@abc.com', 55)\\\n",
    "           ]"
   ]
  },
  {
   "cell_type": "code",
   "execution_count": 94,
   "id": "human-trustee",
   "metadata": {},
   "outputs": [],
   "source": [
    "#executemany\n",
    "my_cursor.executemany(sqlStuff, records)\n",
    "mydb.commit()"
   ]
  },
  {
   "cell_type": "markdown",
   "id": "uniform-stand",
   "metadata": {},
   "source": [
    "## Select Data From Table"
   ]
  },
  {
   "cell_type": "code",
   "execution_count": 111,
   "id": "invalid-prison",
   "metadata": {},
   "outputs": [],
   "source": [
    "mydb = mysql.connector.connect(\n",
    "    host = \"172.28.0.2\",\n",
    "    user = \"root\",\n",
    "    passwd = \"123456\",\n",
    "    database = \"testdb\")"
   ]
  },
  {
   "cell_type": "code",
   "execution_count": 112,
   "id": "fleet-thesaurus",
   "metadata": {},
   "outputs": [],
   "source": [
    "my_cursor = mydb.cursor()"
   ]
  },
  {
   "cell_type": "code",
   "execution_count": 113,
   "id": "harmful-chase",
   "metadata": {},
   "outputs": [],
   "source": [
    "my_cursor.execute(\"SELECT * FROM users\")"
   ]
  },
  {
   "cell_type": "code",
   "execution_count": 114,
   "id": "individual-monroe",
   "metadata": {},
   "outputs": [],
   "source": [
    "num_fields = len(my_cursor.description)\n",
    "field_names = [i[0] for i in my_cursor.description]"
   ]
  },
  {
   "cell_type": "code",
   "execution_count": 115,
   "id": "patent-indian",
   "metadata": {},
   "outputs": [
    {
     "name": "stdout",
     "output_type": "stream",
     "text": [
      "['name', 'email', 'age', 'user_id']\n",
      "('John', 'john@abc.com', 40, 1)\n",
      "('Tim', 'Tim@abc.com', 20, 2)\n",
      "('Mary', 'Mary@abc.com', 30, 3)\n",
      "('Kevin', 'Kevin@abc.com', 18, 4)\n",
      "('Ironman', 'Ironman@abc.com', 45, 5)\n"
     ]
    }
   ],
   "source": [
    "print(field_names)\n",
    "for record in my_cursor:\n",
    "    print(record)"
   ]
  },
  {
   "cell_type": "code",
   "execution_count": 116,
   "id": "compound-hobby",
   "metadata": {},
   "outputs": [],
   "source": [
    "my_cursor.execute(\"SELECT name FROM users\")"
   ]
  },
  {
   "cell_type": "code",
   "execution_count": 117,
   "id": "large-cattle",
   "metadata": {},
   "outputs": [
    {
     "name": "stdout",
     "output_type": "stream",
     "text": [
      "('John',)\n",
      "('Tim',)\n",
      "('Mary',)\n",
      "('Kevin',)\n",
      "('Ironman',)\n"
     ]
    }
   ],
   "source": [
    "for record in my_cursor:\n",
    "    print(record)"
   ]
  },
  {
   "cell_type": "markdown",
   "id": "internal-continuity",
   "metadata": {},
   "source": [
    "## Format Our Results"
   ]
  },
  {
   "cell_type": "code",
   "execution_count": 148,
   "id": "manufactured-occupation",
   "metadata": {},
   "outputs": [],
   "source": [
    "import pandas as pd"
   ]
  },
  {
   "cell_type": "code",
   "execution_count": 140,
   "id": "external-paragraph",
   "metadata": {},
   "outputs": [],
   "source": [
    "mydb = mysql.connector.connect(\n",
    "    host = \"172.28.0.2\",\n",
    "    user = \"root\",\n",
    "    passwd = \"123456\",\n",
    "    database = \"testdb\")"
   ]
  },
  {
   "cell_type": "code",
   "execution_count": 141,
   "id": "auburn-europe",
   "metadata": {},
   "outputs": [],
   "source": [
    "my_cursor = mydb.cursor()"
   ]
  },
  {
   "cell_type": "code",
   "execution_count": 142,
   "id": "clinical-complex",
   "metadata": {},
   "outputs": [],
   "source": [
    "my_cursor.execute(\"SELECT * FROM users\")"
   ]
  },
  {
   "cell_type": "code",
   "execution_count": 143,
   "id": "modern-tower",
   "metadata": {
    "scrolled": true
   },
   "outputs": [],
   "source": [
    "num_fields = len(my_cursor.description)\n",
    "field_names = [i[0] for i in my_cursor.description]"
   ]
  },
  {
   "cell_type": "code",
   "execution_count": 144,
   "id": "looking-universal",
   "metadata": {},
   "outputs": [],
   "source": [
    "df = []"
   ]
  },
  {
   "cell_type": "code",
   "execution_count": 145,
   "id": "swiss-region",
   "metadata": {},
   "outputs": [],
   "source": [
    "for record in my_cursor:\n",
    "    df.append(list(record))"
   ]
  },
  {
   "cell_type": "code",
   "execution_count": 146,
   "id": "satellite-special",
   "metadata": {},
   "outputs": [
    {
     "data": {
      "text/plain": [
       "[['John', 'john@abc.com', 40, 1],\n",
       " ['Tim', 'Tim@abc.com', 20, 2],\n",
       " ['Mary', 'Mary@abc.com', 30, 3],\n",
       " ['Kevin', 'Kevin@abc.com', 18, 4],\n",
       " ['Ironman', 'Ironman@abc.com', 45, 5]]"
      ]
     },
     "execution_count": 146,
     "metadata": {},
     "output_type": "execute_result"
    }
   ],
   "source": [
    "df"
   ]
  },
  {
   "cell_type": "code",
   "execution_count": 149,
   "id": "light-assembly",
   "metadata": {},
   "outputs": [],
   "source": [
    "new_df = pd.DataFrame(columns = field_names, data = df)"
   ]
  },
  {
   "cell_type": "code",
   "execution_count": 150,
   "id": "herbal-banana",
   "metadata": {},
   "outputs": [
    {
     "data": {
      "text/html": [
       "<div>\n",
       "<style scoped>\n",
       "    .dataframe tbody tr th:only-of-type {\n",
       "        vertical-align: middle;\n",
       "    }\n",
       "\n",
       "    .dataframe tbody tr th {\n",
       "        vertical-align: top;\n",
       "    }\n",
       "\n",
       "    .dataframe thead th {\n",
       "        text-align: right;\n",
       "    }\n",
       "</style>\n",
       "<table border=\"1\" class=\"dataframe\">\n",
       "  <thead>\n",
       "    <tr style=\"text-align: right;\">\n",
       "      <th></th>\n",
       "      <th>name</th>\n",
       "      <th>email</th>\n",
       "      <th>age</th>\n",
       "      <th>user_id</th>\n",
       "    </tr>\n",
       "  </thead>\n",
       "  <tbody>\n",
       "    <tr>\n",
       "      <th>0</th>\n",
       "      <td>John</td>\n",
       "      <td>john@abc.com</td>\n",
       "      <td>40</td>\n",
       "      <td>1</td>\n",
       "    </tr>\n",
       "    <tr>\n",
       "      <th>1</th>\n",
       "      <td>Tim</td>\n",
       "      <td>Tim@abc.com</td>\n",
       "      <td>20</td>\n",
       "      <td>2</td>\n",
       "    </tr>\n",
       "    <tr>\n",
       "      <th>2</th>\n",
       "      <td>Mary</td>\n",
       "      <td>Mary@abc.com</td>\n",
       "      <td>30</td>\n",
       "      <td>3</td>\n",
       "    </tr>\n",
       "    <tr>\n",
       "      <th>3</th>\n",
       "      <td>Kevin</td>\n",
       "      <td>Kevin@abc.com</td>\n",
       "      <td>18</td>\n",
       "      <td>4</td>\n",
       "    </tr>\n",
       "    <tr>\n",
       "      <th>4</th>\n",
       "      <td>Ironman</td>\n",
       "      <td>Ironman@abc.com</td>\n",
       "      <td>45</td>\n",
       "      <td>5</td>\n",
       "    </tr>\n",
       "  </tbody>\n",
       "</table>\n",
       "</div>"
      ],
      "text/plain": [
       "      name            email  age  user_id\n",
       "0     John     john@abc.com   40        1\n",
       "1      Tim      Tim@abc.com   20        2\n",
       "2     Mary     Mary@abc.com   30        3\n",
       "3    Kevin    Kevin@abc.com   18        4\n",
       "4  Ironman  Ironman@abc.com   45        5"
      ]
     },
     "execution_count": 150,
     "metadata": {},
     "output_type": "execute_result"
    }
   ],
   "source": [
    "new_df"
   ]
  },
  {
   "cell_type": "markdown",
   "id": "packed-savage",
   "metadata": {},
   "source": [
    "## The Where Clause"
   ]
  },
  {
   "cell_type": "code",
   "execution_count": 151,
   "id": "unauthorized-determination",
   "metadata": {},
   "outputs": [],
   "source": [
    "mydb = mysql.connector.connect(\n",
    "    host = \"172.28.0.2\",\n",
    "    user = \"root\",\n",
    "    passwd = \"123456\",\n",
    "    database = \"testdb\")"
   ]
  },
  {
   "cell_type": "code",
   "execution_count": 152,
   "id": "respiratory-modeling",
   "metadata": {},
   "outputs": [],
   "source": [
    "my_cursor = mydb.cursor()"
   ]
  },
  {
   "cell_type": "code",
   "execution_count": 153,
   "id": "informative-paper",
   "metadata": {},
   "outputs": [],
   "source": [
    "my_cursor.execute(\"SELECT * FROM users WHERE age > 30\")"
   ]
  },
  {
   "cell_type": "code",
   "execution_count": 154,
   "id": "upset-section",
   "metadata": {},
   "outputs": [],
   "source": [
    "result = my_cursor.fetchall()"
   ]
  },
  {
   "cell_type": "code",
   "execution_count": 155,
   "id": "familiar-warner",
   "metadata": {},
   "outputs": [
    {
     "name": "stdout",
     "output_type": "stream",
     "text": [
      "('John', 'john@abc.com', 40, 1)\n",
      "('Ironman', 'Ironman@abc.com', 45, 5)\n"
     ]
    }
   ],
   "source": [
    "for row in result:\n",
    "    print(row)"
   ]
  },
  {
   "cell_type": "code",
   "execution_count": 156,
   "id": "residential-civilian",
   "metadata": {},
   "outputs": [],
   "source": [
    "my_cursor.execute(\"SELECT * FROM users WHERE name = 'John'\")"
   ]
  },
  {
   "cell_type": "code",
   "execution_count": 157,
   "id": "standing-tomato",
   "metadata": {},
   "outputs": [],
   "source": [
    "result = my_cursor.fetchall()"
   ]
  },
  {
   "cell_type": "code",
   "execution_count": 158,
   "id": "unlike-theta",
   "metadata": {},
   "outputs": [
    {
     "name": "stdout",
     "output_type": "stream",
     "text": [
      "('John', 'john@abc.com', 40, 1)\n"
     ]
    }
   ],
   "source": [
    "for row in result:\n",
    "    print(row)"
   ]
  },
  {
   "cell_type": "markdown",
   "id": "false-nursery",
   "metadata": {},
   "source": [
    "## The Like Clause and Wildcards"
   ]
  },
  {
   "cell_type": "code",
   "execution_count": 191,
   "id": "stylish-chapter",
   "metadata": {},
   "outputs": [],
   "source": [
    "mydb = mysql.connector.connect(\n",
    "    host = \"172.28.0.2\",\n",
    "    user = \"root\",\n",
    "    passwd = \"123456\",\n",
    "    database = \"testdb\")"
   ]
  },
  {
   "cell_type": "code",
   "execution_count": 192,
   "id": "opposite-constitution",
   "metadata": {},
   "outputs": [],
   "source": [
    "my_cursor = mydb.cursor()"
   ]
  },
  {
   "cell_type": "code",
   "execution_count": 193,
   "id": "fifth-mathematics",
   "metadata": {},
   "outputs": [],
   "source": [
    "my_cursor.execute(\"SELECT * FROM users WHERE name LIKE 'J%'\")"
   ]
  },
  {
   "cell_type": "code",
   "execution_count": 194,
   "id": "continent-composition",
   "metadata": {},
   "outputs": [],
   "source": [
    "result = my_cursor.fetchall()"
   ]
  },
  {
   "cell_type": "code",
   "execution_count": 195,
   "id": "looking-fleet",
   "metadata": {},
   "outputs": [
    {
     "name": "stdout",
     "output_type": "stream",
     "text": [
      "('John', 'john@abc.com', 40, 1)\n",
      "('JohnnyDepp', 'JohnnyDepp@abc.com', 55, 6)\n"
     ]
    }
   ],
   "source": [
    "for row in result:\n",
    "    print(row)"
   ]
  },
  {
   "cell_type": "markdown",
   "id": "radical-reynolds",
   "metadata": {},
   "source": [
    "## Using AND and OR"
   ]
  },
  {
   "cell_type": "code",
   "execution_count": 196,
   "id": "stone-mixer",
   "metadata": {},
   "outputs": [],
   "source": [
    "mydb = mysql.connector.connect(\n",
    "    host = \"172.28.0.2\",\n",
    "    user = \"root\",\n",
    "    passwd = \"123456\",\n",
    "    database = \"testdb\")"
   ]
  },
  {
   "cell_type": "code",
   "execution_count": 197,
   "id": "rational-divorce",
   "metadata": {},
   "outputs": [],
   "source": [
    "my_cursor = mydb.cursor()"
   ]
  },
  {
   "cell_type": "code",
   "execution_count": 198,
   "id": "sufficient-giving",
   "metadata": {},
   "outputs": [],
   "source": [
    "my_cursor.execute(\"SELECT * FROM users WHERE name LIKE 'J%' AND age = 55\")"
   ]
  },
  {
   "cell_type": "code",
   "execution_count": 199,
   "id": "criminal-change",
   "metadata": {},
   "outputs": [],
   "source": [
    "result = my_cursor.fetchall()"
   ]
  },
  {
   "cell_type": "code",
   "execution_count": 201,
   "id": "hybrid-norfolk",
   "metadata": {},
   "outputs": [
    {
     "name": "stdout",
     "output_type": "stream",
     "text": [
      "('JohnnyDepp', 'JohnnyDepp@abc.com', 55, 6)\n"
     ]
    }
   ],
   "source": [
    "for row in result:\n",
    "    print(row)"
   ]
  },
  {
   "cell_type": "code",
   "execution_count": 202,
   "id": "everyday-electron",
   "metadata": {},
   "outputs": [],
   "source": [
    "sqlStuff = \"INSERT INTO users (name, email, age) VALUES (%s, %s, %s)\"\n",
    "record1 = ('Tina', 'Tina@abc.com', 25)"
   ]
  },
  {
   "cell_type": "code",
   "execution_count": 203,
   "id": "electoral-brazil",
   "metadata": {},
   "outputs": [],
   "source": [
    "my_cursor.execute(sqlStuff, record1)\n",
    "mydb.commit()"
   ]
  },
  {
   "cell_type": "code",
   "execution_count": 219,
   "id": "altered-indicator",
   "metadata": {},
   "outputs": [],
   "source": [
    "my_cursor.execute(\"SELECT * FROM users WHERE name LIKE '%I%' OR age = 20\")"
   ]
  },
  {
   "cell_type": "code",
   "execution_count": 220,
   "id": "eight-sender",
   "metadata": {},
   "outputs": [],
   "source": [
    "result = my_cursor.fetchall()"
   ]
  },
  {
   "cell_type": "code",
   "execution_count": 221,
   "id": "attempted-sculpture",
   "metadata": {},
   "outputs": [
    {
     "name": "stdout",
     "output_type": "stream",
     "text": [
      "('Tim', 'Tim@abc.com', 20, 2)\n",
      "('Kevin', 'Kevin@abc.com', 18, 4)\n",
      "('Ironman', 'Ironman@abc.com', 45, 5)\n",
      "('Tina', 'Tina@abc.com', 25, 7)\n"
     ]
    }
   ],
   "source": [
    "for row in result:\n",
    "    print(row)"
   ]
  },
  {
   "cell_type": "markdown",
   "id": "graphic-google",
   "metadata": {},
   "source": [
    "## Updating Records"
   ]
  },
  {
   "cell_type": "code",
   "execution_count": 222,
   "id": "unsigned-tournament",
   "metadata": {},
   "outputs": [],
   "source": [
    "mydb = mysql.connector.connect(\n",
    "    host = \"172.28.0.2\",\n",
    "    user = \"root\",\n",
    "    passwd = \"123456\",\n",
    "    database = \"testdb\")"
   ]
  },
  {
   "cell_type": "code",
   "execution_count": 223,
   "id": "broken-tracker",
   "metadata": {},
   "outputs": [],
   "source": [
    "my_cursor = mydb.cursor()"
   ]
  },
  {
   "cell_type": "code",
   "execution_count": 224,
   "id": "configured-absorption",
   "metadata": {},
   "outputs": [],
   "source": [
    "my_sql = \"UPDATE users SET age = 41 WHERE name = 'Kevin'\""
   ]
  },
  {
   "cell_type": "code",
   "execution_count": 225,
   "id": "phantom-necklace",
   "metadata": {},
   "outputs": [],
   "source": [
    "my_cursor.execute(my_sql)\n",
    "mydb.commit()"
   ]
  },
  {
   "cell_type": "code",
   "execution_count": 229,
   "id": "right-zoning",
   "metadata": {},
   "outputs": [],
   "source": [
    "my_cursor.execute(\"SELECT * FROM users\")"
   ]
  },
  {
   "cell_type": "code",
   "execution_count": 230,
   "id": "european-valley",
   "metadata": {},
   "outputs": [],
   "source": [
    "result = my_cursor.fetchall()"
   ]
  },
  {
   "cell_type": "code",
   "execution_count": 231,
   "id": "circular-release",
   "metadata": {},
   "outputs": [
    {
     "name": "stdout",
     "output_type": "stream",
     "text": [
      "('John', 'john@abc.com', 40, 1)\n",
      "('Tim', 'Tim@abc.com', 20, 2)\n",
      "('Mary', 'Mary@abc.com', 30, 3)\n",
      "('Kevin', 'Kevin@abc.com', 41, 4)\n",
      "('Ironman', 'Ironman@abc.com', 45, 5)\n",
      "('JohnnyDepp', 'JohnnyDepp@abc.com', 55, 6)\n",
      "('Tina', 'Tina@abc.com', 25, 7)\n"
     ]
    }
   ],
   "source": [
    "for row in result:\n",
    "    print(row)"
   ]
  },
  {
   "cell_type": "markdown",
   "id": "cordless-pride",
   "metadata": {},
   "source": [
    "## Limit and Ordering"
   ]
  },
  {
   "cell_type": "code",
   "execution_count": 232,
   "id": "electrical-audience",
   "metadata": {},
   "outputs": [],
   "source": [
    "mydb = mysql.connector.connect(\n",
    "    host = \"172.28.0.2\",\n",
    "    user = \"root\",\n",
    "    passwd = \"123456\",\n",
    "    database = \"testdb\")"
   ]
  },
  {
   "cell_type": "code",
   "execution_count": 233,
   "id": "agreed-comedy",
   "metadata": {},
   "outputs": [],
   "source": [
    "my_cursor = mydb.cursor()"
   ]
  },
  {
   "cell_type": "code",
   "execution_count": 234,
   "id": "acceptable-revolution",
   "metadata": {},
   "outputs": [],
   "source": [
    "my_cursor.execute(\"SELECT * FROM users LIMIT 3\")"
   ]
  },
  {
   "cell_type": "code",
   "execution_count": 235,
   "id": "divided-shuttle",
   "metadata": {},
   "outputs": [],
   "source": [
    "result = my_cursor.fetchall()"
   ]
  },
  {
   "cell_type": "code",
   "execution_count": 236,
   "id": "agricultural-border",
   "metadata": {},
   "outputs": [
    {
     "name": "stdout",
     "output_type": "stream",
     "text": [
      "('John', 'john@abc.com', 40, 1)\n",
      "('Tim', 'Tim@abc.com', 20, 2)\n",
      "('Mary', 'Mary@abc.com', 30, 3)\n"
     ]
    }
   ],
   "source": [
    "for row in result:\n",
    "    print(row)"
   ]
  },
  {
   "cell_type": "markdown",
   "id": "growing-session",
   "metadata": {},
   "source": [
    "### OFFSET"
   ]
  },
  {
   "cell_type": "code",
   "execution_count": 237,
   "id": "requested-wednesday",
   "metadata": {},
   "outputs": [],
   "source": [
    "my_cursor.execute(\"SELECT * FROM users LIMIT 3 OFFSET 1\")"
   ]
  },
  {
   "cell_type": "code",
   "execution_count": 238,
   "id": "tutorial-automation",
   "metadata": {},
   "outputs": [],
   "source": [
    "result = my_cursor.fetchall()"
   ]
  },
  {
   "cell_type": "code",
   "execution_count": 239,
   "id": "varying-eagle",
   "metadata": {},
   "outputs": [
    {
     "name": "stdout",
     "output_type": "stream",
     "text": [
      "('Tim', 'Tim@abc.com', 20, 2)\n",
      "('Mary', 'Mary@abc.com', 30, 3)\n",
      "('Kevin', 'Kevin@abc.com', 41, 4)\n"
     ]
    }
   ],
   "source": [
    "for row in result:\n",
    "    print(row)"
   ]
  },
  {
   "cell_type": "markdown",
   "id": "isolated-supplier",
   "metadata": {},
   "source": [
    "### Order"
   ]
  },
  {
   "cell_type": "code",
   "execution_count": 253,
   "id": "prime-senegal",
   "metadata": {},
   "outputs": [],
   "source": [
    "my_cursor.execute(\"SELECT * FROM users ORDER BY age DESC\")"
   ]
  },
  {
   "cell_type": "code",
   "execution_count": 254,
   "id": "otherwise-arrow",
   "metadata": {},
   "outputs": [],
   "source": [
    "result = my_cursor.fetchall()"
   ]
  },
  {
   "cell_type": "code",
   "execution_count": 255,
   "id": "verbal-combine",
   "metadata": {},
   "outputs": [],
   "source": [
    "num_fields = len(my_cursor.description)\n",
    "field_names = [i[0] for i in my_cursor.description]"
   ]
  },
  {
   "cell_type": "code",
   "execution_count": 256,
   "id": "light-salad",
   "metadata": {},
   "outputs": [],
   "source": [
    "df = []"
   ]
  },
  {
   "cell_type": "code",
   "execution_count": 257,
   "id": "german-hybrid",
   "metadata": {},
   "outputs": [],
   "source": [
    "for record in result:\n",
    "    df.append(list(record))"
   ]
  },
  {
   "cell_type": "code",
   "execution_count": 258,
   "id": "paperback-childhood",
   "metadata": {},
   "outputs": [],
   "source": [
    "new_df = pd.DataFrame(columns = field_names, data = df)"
   ]
  },
  {
   "cell_type": "code",
   "execution_count": 259,
   "id": "rubber-baptist",
   "metadata": {},
   "outputs": [
    {
     "data": {
      "text/html": [
       "<div>\n",
       "<style scoped>\n",
       "    .dataframe tbody tr th:only-of-type {\n",
       "        vertical-align: middle;\n",
       "    }\n",
       "\n",
       "    .dataframe tbody tr th {\n",
       "        vertical-align: top;\n",
       "    }\n",
       "\n",
       "    .dataframe thead th {\n",
       "        text-align: right;\n",
       "    }\n",
       "</style>\n",
       "<table border=\"1\" class=\"dataframe\">\n",
       "  <thead>\n",
       "    <tr style=\"text-align: right;\">\n",
       "      <th></th>\n",
       "      <th>name</th>\n",
       "      <th>email</th>\n",
       "      <th>age</th>\n",
       "      <th>user_id</th>\n",
       "    </tr>\n",
       "  </thead>\n",
       "  <tbody>\n",
       "    <tr>\n",
       "      <th>0</th>\n",
       "      <td>JohnnyDepp</td>\n",
       "      <td>JohnnyDepp@abc.com</td>\n",
       "      <td>55</td>\n",
       "      <td>6</td>\n",
       "    </tr>\n",
       "    <tr>\n",
       "      <th>1</th>\n",
       "      <td>Ironman</td>\n",
       "      <td>Ironman@abc.com</td>\n",
       "      <td>45</td>\n",
       "      <td>5</td>\n",
       "    </tr>\n",
       "    <tr>\n",
       "      <th>2</th>\n",
       "      <td>Kevin</td>\n",
       "      <td>Kevin@abc.com</td>\n",
       "      <td>41</td>\n",
       "      <td>4</td>\n",
       "    </tr>\n",
       "    <tr>\n",
       "      <th>3</th>\n",
       "      <td>John</td>\n",
       "      <td>john@abc.com</td>\n",
       "      <td>40</td>\n",
       "      <td>1</td>\n",
       "    </tr>\n",
       "    <tr>\n",
       "      <th>4</th>\n",
       "      <td>Mary</td>\n",
       "      <td>Mary@abc.com</td>\n",
       "      <td>30</td>\n",
       "      <td>3</td>\n",
       "    </tr>\n",
       "    <tr>\n",
       "      <th>5</th>\n",
       "      <td>Tina</td>\n",
       "      <td>Tina@abc.com</td>\n",
       "      <td>25</td>\n",
       "      <td>7</td>\n",
       "    </tr>\n",
       "    <tr>\n",
       "      <th>6</th>\n",
       "      <td>Tim</td>\n",
       "      <td>Tim@abc.com</td>\n",
       "      <td>20</td>\n",
       "      <td>2</td>\n",
       "    </tr>\n",
       "  </tbody>\n",
       "</table>\n",
       "</div>"
      ],
      "text/plain": [
       "         name               email  age  user_id\n",
       "0  JohnnyDepp  JohnnyDepp@abc.com   55        6\n",
       "1     Ironman     Ironman@abc.com   45        5\n",
       "2       Kevin       Kevin@abc.com   41        4\n",
       "3        John        john@abc.com   40        1\n",
       "4        Mary        Mary@abc.com   30        3\n",
       "5        Tina        Tina@abc.com   25        7\n",
       "6         Tim         Tim@abc.com   20        2"
      ]
     },
     "execution_count": 259,
     "metadata": {},
     "output_type": "execute_result"
    }
   ],
   "source": [
    "new_df"
   ]
  },
  {
   "cell_type": "code",
   "execution_count": 264,
   "id": "unknown-diagram",
   "metadata": {},
   "outputs": [],
   "source": [
    "my_cursor.execute(\"SELECT * FROM users ORDER BY age ASC\")"
   ]
  },
  {
   "cell_type": "code",
   "execution_count": 265,
   "id": "female-healthcare",
   "metadata": {},
   "outputs": [],
   "source": [
    "result = my_cursor.fetchall()"
   ]
  },
  {
   "cell_type": "code",
   "execution_count": 266,
   "id": "opposite-drive",
   "metadata": {},
   "outputs": [],
   "source": [
    "df = []"
   ]
  },
  {
   "cell_type": "code",
   "execution_count": 267,
   "id": "whole-perry",
   "metadata": {},
   "outputs": [],
   "source": [
    "for record in result:\n",
    "    df.append(list(record))"
   ]
  },
  {
   "cell_type": "code",
   "execution_count": 268,
   "id": "unlikely-delta",
   "metadata": {},
   "outputs": [],
   "source": [
    "new_df = pd.DataFrame(columns = field_names, data = df)"
   ]
  },
  {
   "cell_type": "code",
   "execution_count": 269,
   "id": "assisted-flashing",
   "metadata": {},
   "outputs": [
    {
     "data": {
      "text/html": [
       "<div>\n",
       "<style scoped>\n",
       "    .dataframe tbody tr th:only-of-type {\n",
       "        vertical-align: middle;\n",
       "    }\n",
       "\n",
       "    .dataframe tbody tr th {\n",
       "        vertical-align: top;\n",
       "    }\n",
       "\n",
       "    .dataframe thead th {\n",
       "        text-align: right;\n",
       "    }\n",
       "</style>\n",
       "<table border=\"1\" class=\"dataframe\">\n",
       "  <thead>\n",
       "    <tr style=\"text-align: right;\">\n",
       "      <th></th>\n",
       "      <th>name</th>\n",
       "      <th>email</th>\n",
       "      <th>age</th>\n",
       "      <th>user_id</th>\n",
       "    </tr>\n",
       "  </thead>\n",
       "  <tbody>\n",
       "    <tr>\n",
       "      <th>0</th>\n",
       "      <td>Tim</td>\n",
       "      <td>Tim@abc.com</td>\n",
       "      <td>20</td>\n",
       "      <td>2</td>\n",
       "    </tr>\n",
       "    <tr>\n",
       "      <th>1</th>\n",
       "      <td>Tina</td>\n",
       "      <td>Tina@abc.com</td>\n",
       "      <td>25</td>\n",
       "      <td>7</td>\n",
       "    </tr>\n",
       "    <tr>\n",
       "      <th>2</th>\n",
       "      <td>Mary</td>\n",
       "      <td>Mary@abc.com</td>\n",
       "      <td>30</td>\n",
       "      <td>3</td>\n",
       "    </tr>\n",
       "    <tr>\n",
       "      <th>3</th>\n",
       "      <td>John</td>\n",
       "      <td>john@abc.com</td>\n",
       "      <td>40</td>\n",
       "      <td>1</td>\n",
       "    </tr>\n",
       "    <tr>\n",
       "      <th>4</th>\n",
       "      <td>Kevin</td>\n",
       "      <td>Kevin@abc.com</td>\n",
       "      <td>41</td>\n",
       "      <td>4</td>\n",
       "    </tr>\n",
       "    <tr>\n",
       "      <th>5</th>\n",
       "      <td>Ironman</td>\n",
       "      <td>Ironman@abc.com</td>\n",
       "      <td>45</td>\n",
       "      <td>5</td>\n",
       "    </tr>\n",
       "    <tr>\n",
       "      <th>6</th>\n",
       "      <td>JohnnyDepp</td>\n",
       "      <td>JohnnyDepp@abc.com</td>\n",
       "      <td>55</td>\n",
       "      <td>6</td>\n",
       "    </tr>\n",
       "  </tbody>\n",
       "</table>\n",
       "</div>"
      ],
      "text/plain": [
       "         name               email  age  user_id\n",
       "0         Tim         Tim@abc.com   20        2\n",
       "1        Tina        Tina@abc.com   25        7\n",
       "2        Mary        Mary@abc.com   30        3\n",
       "3        John        john@abc.com   40        1\n",
       "4       Kevin       Kevin@abc.com   41        4\n",
       "5     Ironman     Ironman@abc.com   45        5\n",
       "6  JohnnyDepp  JohnnyDepp@abc.com   55        6"
      ]
     },
     "execution_count": 269,
     "metadata": {},
     "output_type": "execute_result"
    }
   ],
   "source": [
    "new_df"
   ]
  },
  {
   "cell_type": "markdown",
   "id": "peaceful-culture",
   "metadata": {},
   "source": [
    "## Delete Records"
   ]
  },
  {
   "cell_type": "code",
   "execution_count": 270,
   "id": "adequate-purchase",
   "metadata": {},
   "outputs": [],
   "source": [
    "mydb = mysql.connector.connect(\n",
    "    host = \"172.28.0.2\",\n",
    "    user = \"root\",\n",
    "    passwd = \"123456\",\n",
    "    database = \"testdb\")"
   ]
  },
  {
   "cell_type": "code",
   "execution_count": 271,
   "id": "rising-palace",
   "metadata": {},
   "outputs": [],
   "source": [
    "my_cursor = mydb.cursor()"
   ]
  },
  {
   "cell_type": "code",
   "execution_count": 273,
   "id": "indian-worthy",
   "metadata": {},
   "outputs": [],
   "source": [
    "my_cursor.execute(\"DELETE FROM users WHERE user_id = 3\")"
   ]
  },
  {
   "cell_type": "code",
   "execution_count": 274,
   "id": "introductory-question",
   "metadata": {},
   "outputs": [],
   "source": [
    "mydb.commit()"
   ]
  },
  {
   "cell_type": "code",
   "execution_count": 275,
   "id": "caroline-defeat",
   "metadata": {},
   "outputs": [],
   "source": [
    "my_cursor.execute(\"SELECT * FROM users\")"
   ]
  },
  {
   "cell_type": "code",
   "execution_count": 276,
   "id": "instrumental-pension",
   "metadata": {},
   "outputs": [],
   "source": [
    "result = my_cursor.fetchall()"
   ]
  },
  {
   "cell_type": "code",
   "execution_count": 277,
   "id": "industrial-calibration",
   "metadata": {},
   "outputs": [
    {
     "name": "stdout",
     "output_type": "stream",
     "text": [
      "('John', 'john@abc.com', 40, 1)\n",
      "('Tim', 'Tim@abc.com', 20, 2)\n",
      "('Kevin', 'Kevin@abc.com', 41, 4)\n",
      "('Ironman', 'Ironman@abc.com', 45, 5)\n",
      "('JohnnyDepp', 'JohnnyDepp@abc.com', 55, 6)\n",
      "('Tina', 'Tina@abc.com', 25, 7)\n"
     ]
    }
   ],
   "source": [
    "for row in result:\n",
    "    print(row)"
   ]
  },
  {
   "cell_type": "markdown",
   "id": "concrete-study",
   "metadata": {},
   "source": [
    "## Delete A Table And Backups"
   ]
  },
  {
   "cell_type": "code",
   "execution_count": 278,
   "id": "civil-found",
   "metadata": {},
   "outputs": [],
   "source": [
    "mydb = mysql.connector.connect(\n",
    "    host = \"172.28.0.2\",\n",
    "    user = \"root\",\n",
    "    passwd = \"123456\",\n",
    "    database = \"testdb\")"
   ]
  },
  {
   "cell_type": "code",
   "execution_count": 279,
   "id": "romance-junction",
   "metadata": {},
   "outputs": [],
   "source": [
    "my_cursor = mydb.cursor()"
   ]
  },
  {
   "cell_type": "code",
   "execution_count": 285,
   "id": "fresh-fellowship",
   "metadata": {},
   "outputs": [],
   "source": [
    "my_sql = \"DROP TABLE IF EXISTS users\""
   ]
  }
 ],
 "metadata": {
  "kernelspec": {
   "display_name": "Python 3",
   "language": "python",
   "name": "python3"
  },
  "language_info": {
   "codemirror_mode": {
    "name": "ipython",
    "version": 3
   },
   "file_extension": ".py",
   "mimetype": "text/x-python",
   "name": "python",
   "nbconvert_exporter": "python",
   "pygments_lexer": "ipython3",
   "version": "3.8.8"
  }
 },
 "nbformat": 4,
 "nbformat_minor": 5
}
